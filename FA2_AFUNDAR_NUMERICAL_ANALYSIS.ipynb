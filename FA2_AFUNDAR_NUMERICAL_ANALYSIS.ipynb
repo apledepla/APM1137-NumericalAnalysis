{
 "cells": [
  {
   "cell_type": "markdown",
   "id": "943734bb-083b-430b-b380-6b32e05f219a",
   "metadata": {},
   "source": [
    "## I. Machine Exercises Number 1\n"
   ]
  },
  {
   "cell_type": "code",
   "execution_count": 20,
   "id": "fe01b573-0d6b-490d-b502-2617563554fb",
   "metadata": {},
   "outputs": [
    {
     "name": "stdout",
     "output_type": "stream",
     "text": [
      "i= 2\n",
      "j= 0\n",
      "\n",
      "i= 1\n",
      "j= 0\n",
      "\n",
      "i= 1\n",
      "j= 1\n",
      "\n",
      "i= 0\n",
      "j= 0\n",
      "\n",
      "i= 0\n",
      "j= 1\n",
      "\n",
      "i= 0\n",
      "j= 2\n",
      "\n",
      "Neville's interpolation table:\n",
      "1.000000   2.037952   2.239955   2.222483\n",
      "1.648720   2.290456   2.207194   0.000000\n",
      "2.718280   2.012916   0.000000   0.000000\n",
      "4.481690   0.000000   0.000000   0.000000\n",
      "\n",
      "Interpolated value at x = [0, 0.25, 0.5, 0.75] is 2.22248256\n"
     ]
    }
   ],
   "source": [
    "def neville(x_n, P, x):\n",
    "    n = len(x_n)\n",
    "    Q = [[0.0] * n for _ in range(n)]\n",
    "    \n",
    "    for i in range(n):\n",
    "        Q[i][0] = P[i]\n",
    "    \n",
    "\n",
    "    for i in range(n):\n",
    "        for j in range((n - 1) - i):\n",
    "            Q[i][j+1] = ((x - x_n[i]) * Q[i+1][j] - (x - x_n[i+j+1]) * Q[i][j]) / (x_n[i+j+1] - x_n[i])\n",
    "            print(\"i=\",i)\n",
    "            print(\"j=\",j)\n",
    "            print(\"\")\n",
    "    \n",
    "    \n",
    "    return Q[0][n-1], Q\n",
    "\n",
    "x_n = [0, 0.25, 0.5, 0.75]\n",
    "P = [1, 1.64872, 2.71828, 4.48169]\n",
    "x_int = 0.4\n",
    "\n",
    "result, table = neville(x_n, P, x_int)\n",
    "\n",
    "print(\"Neville's interpolation table:\")\n",
    "for i, row in enumerate(table):\n",
    "    formatted_row = \"   \".join(\"{:.6f}\".format(val) for val in row)\n",
    "    print(formatted_row)\n",
    "\n",
    "print(\"\\nInterpolated value at x =\", x_n, \"is\", result)\n"
   ]
  },
  {
   "cell_type": "markdown",
   "id": "9b61ad25-c7bd-404c-91dc-37d0a3afc769",
   "metadata": {},
   "source": [
    "## Number 2\n"
   ]
  },
  {
   "cell_type": "code",
   "execution_count": 23,
   "id": "62635fbd-a1d6-4672-ad14-5ee1758eb568",
   "metadata": {},
   "outputs": [
    {
     "name": "stdout",
     "output_type": "stream",
     "text": [
      "i= 2\n",
      "j= 0\n",
      "\n",
      "i= 1\n",
      "j= 0\n",
      "\n",
      "i= 1\n",
      "j= 1\n",
      "\n",
      "i= 0\n",
      "j= 0\n",
      "\n",
      "i= 0\n",
      "j= 1\n",
      "\n",
      "i= 0\n",
      "j= 2\n",
      "\n",
      "Newton's Divided interpolation table:\n",
      "16.944100   3.104100   0.060000   -0.002083\n",
      "17.564920   3.134100   0.058750   0.000000\n",
      "18.505150   3.157600   0.000000   0.000000\n",
      "18.820910   0.000000   0.000000   0.000000\n",
      "\n",
      "Interpolated value at x = [8.1, 8.3, 8.6, 8.7] is -0.0020833333333447855\n"
     ]
    }
   ],
   "source": [
    "def newton_divided(x_n, f_x):\n",
    "    n = len(x_n)\n",
    "    F = [[0.0] * n for _ in range(n)]\n",
    "    \n",
    "    for i in range(n):\n",
    "        F[i][0] = f_x[i]\n",
    "    \n",
    "\n",
    "    for i in reversed(range(n - 1)):\n",
    "        for j in range((n - 1) - i):\n",
    "            F[i][j+1] = (F[i+1][j]-F[i][j])/(x_n[i+j+1] - x_n[i])\n",
    "            print(\"i=\",i)\n",
    "            print(\"j=\",j)\n",
    "            print(\"\")\n",
    "    \n",
    "    \n",
    "    return F[0][n-1], F\n",
    "\n",
    "x_n=[8.1,8.3,8.6,8.7]\n",
    "f_x=[16.94410,17.56492,18.50515,18.82091]\n",
    "\n",
    "result, table=newton_divided(x_n,f_x)\n",
    "\n",
    "print(\"Newton's Divided interpolation table:\")\n",
    "for i, row in enumerate(table):\n",
    "    formatted_row = \"   \".join(\"{:.6f}\".format(val) for val in row)\n",
    "    print(formatted_row)\n",
    "\n",
    "print(\"\\nInterpolated value at x =\", x_n, \"is\", result)"
   ]
  },
  {
   "cell_type": "markdown",
   "id": "74e486b6-efbb-4d29-8d54-68de74e54c41",
   "metadata": {},
   "source": [
    "## II. Number 1"
   ]
  },
  {
   "cell_type": "code",
   "execution_count": 19,
   "id": "3f67653e-c03d-4b23-b0c7-70d26d0baffd",
   "metadata": {},
   "outputs": [
    {
     "name": "stdout",
     "output_type": "stream",
     "text": [
      "Newton's Divided interpolation table:\n",
      "-0.620500\t0.000000\t0.000000\t0.000000\t0.000000\t0.000000\t0.000000\t0.000000\n",
      "-0.620500\t3.585021\t0.000000\t0.000000\t0.000000\t0.000000\t0.000000\t0.000000\n",
      "-0.283987\t3.365129\t-2.198918\t0.000000\t0.000000\t0.000000\t0.000000\t0.000000\n",
      "-0.283987\t3.140333\t-2.247963\t-0.490447\t0.000000\t0.000000\t0.000000\t0.000000\n",
      "0.006601\t2.905876\t-2.344564\t-0.483006\t0.037205\t0.000000\t0.000000\t0.000000\n",
      "0.006601\t2.666680\t-2.391959\t-0.473946\t0.045300\t0.040475\t0.000000\t0.000000\n",
      "0.248424\t2.418234\t-2.484459\t-0.462503\t0.057215\t0.039717\t-0.002528\t0.000000\n",
      "0.248424\t2.165294\t-2.529408\t-0.449491\t0.065060\t0.039225\t-0.001639\t0.002963\n",
      "\n",
      "Hermite Approximation at x = 0.25: -0.13277189084765623\n",
      "Absolute Error: 3.7246826178893855e-09\n"
     ]
    }
   ],
   "source": [
    "import numpy as np\n",
    "\n",
    "def newton_divided(x_n, f_x, f_prime):\n",
    "    n = len(x_n) * 2  \n",
    "    x_n_rep = np.repeat(x_n, 2)  \n",
    "    f_x_rep = np.repeat(f_x, 2)  \n",
    "    df_rep = np.repeat(f_prime, 2)  \n",
    "    \n",
    "    f_divided = np.zeros((n, n))\n",
    "    f_divided[:, 0] = f_x_rep\n",
    "    \n",
    "    for i in range(1, n, 2):\n",
    "        f_divided[i, 1] = df_rep[i]\n",
    "    \n",
    "    for i in range(2, n, 2):\n",
    "        f_divided[i, 1] = (f_divided[i, 0] - f_divided[i-1, 0]) / (x_n_rep[i] - x_n_rep[i-1])\n",
    "    \n",
    "    for j in range(2, n):\n",
    "        for i in range(j, n):\n",
    "            f_divided[i, j] = (f_divided[i, j-1] - f_divided[i-1, j-1]) / (x_n_rep[i] - x_n_rep[i-j])\n",
    "    \n",
    "    return x_n_rep, f_divided\n",
    "\n",
    "def hermite_eval(x_n_rep, f_divided, x_giv):\n",
    "    n = len(x_n_rep)\n",
    "    hermite_approx = f_divided[0, 0]\n",
    "    product_term = 1.0\n",
    "    \n",
    "    for j in range(1, n):\n",
    "        product_term *= (x_giv - x_n_rep[j-1])\n",
    "        hermite_approx += f_divided[j, j] * product_term\n",
    "    \n",
    "    return hermite_approx\n",
    "\n",
    "x_n = [0.1, 0.2, 0.3, 0.4]\n",
    "f_x = [-0.62049958, -0.28398668, 0.00660095, 0.24842440]\n",
    "f_prime = [3.58502082, 3.14033271, 2.66668043, 2.16529366]\n",
    "\n",
    "x_n_rep, f_divided = newton_divided(x_n, f_x, f_prime)\n",
    "\n",
    "x_giv = 0.25\n",
    "hermite_approx = hermite_eval(x_n_rep, f_divided, x_giv)\n",
    "\n",
    "f_true = x_giv * np.cos(x_giv) - 2 * (x_giv**2) + 3 * x_giv - 1\n",
    "abs_error = abs(f_true - hermite_approx)\n",
    "\n",
    "print(\"Newton Difference Table:\")\n",
    "for row in f_divided:\n",
    "    print(\"\\t\".join(f\"{val:.6f}\" for val in row))\n",
    "\n",
    "print(f\"\\nHermite Approximation at x = {x_giv}: {hermite_approx}\")\n",
    "print(f\"Absolute Error: {abs_error}\")\n"
   ]
  },
  {
   "cell_type": "markdown",
   "id": "3d61fea8-036a-4ee3-bb27-e23c0f5214fd",
   "metadata": {},
   "source": [
    "## Number 2 & 3"
   ]
  },
  {
   "cell_type": "code",
   "execution_count": 24,
   "id": "24d847cd-6e73-41da-8129-f4eebafb55d3",
   "metadata": {},
   "outputs": [
    {
     "name": "stdout",
     "output_type": "stream",
     "text": [
      "Natural Cubic Spline\n",
      "Approximated f(0.25): -0.1327722115\n",
      "Absolute Error: 3.16927661142552e-07\n",
      "\n",
      "Clamped Cubic Spline\n",
      "Approximated f(0.25): -0.1327722135833333\n",
      "Absolute Error: 3.16927661142552e-07\n"
     ]
    }
   ],
   "source": [
    "from scipy.interpolate import CubicHermiteSpline, CubicSpline\n",
    "\n",
    "# Given data\n",
    "x = np.array([0.1, 0.2, 0.3, 0.4])\n",
    "y = np.array([-0.62049958, -0.28398668, 0.00660095, 0.24842440])  \n",
    "dydx = np.array([3.58502082, 3.14033271, 2.66668043, 2.16529366])  \n",
    "\n",
    "hermite_interp = CubicHermiteSpline(x, y, dydx)\n",
    "\n",
    "x_giv = 0.25\n",
    "f_approx = hermite_interp(x_giv)\n",
    "\n",
    "f_true = x_giv * np.cos(x_giv) - 2 * (x_giv**2) + 3 * x_giv - 1\n",
    "abs_error = abs(f_true - f_approx)\n",
    "\n",
    "print(\"Natural Cubic Spline\")\n",
    "print(f\"Approximated f(0.25): {f_approx}\")\n",
    "print(f\"Absolute Error: {abs_error}\")\n",
    "\n",
    "print(\"\")\n",
    "\n",
    "f_prime_0 = 3.58502082  # f'(0.1)\n",
    "f_prime_n = 2.16529366  # f'(0.4)\n",
    "\n",
    "spline = CubicSpline(x, y, bc_type=((1, f_prime_0), (1, f_prime_n)))\n",
    "\n",
    "\n",
    "spline_value = spline(x_giv)\n",
    "\n",
    "print(\"Clamped Cubic Spline\")\n",
    "print(f\"Approximated f({x_giv}): {spline_value}\")\n",
    "print(f\"Absolute Error: {abs_error}\")\n"
   ]
  },
  {
   "cell_type": "code",
   "execution_count": null,
   "id": "680de62d-abb2-4faa-aec0-30a4aea8cb3b",
   "metadata": {},
   "outputs": [],
   "source": []
  },
  {
   "cell_type": "code",
   "execution_count": 3,
   "id": "b6ec2512-1469-4d91-8baa-17fa45e99b07",
   "metadata": {},
   "outputs": [
    {
     "name": "stdout",
     "output_type": "stream",
     "text": [
      "Newton's Divided interpolation table:\n",
      "-0.620500   3.585021   3.365129   0.000000   0.000000   0.000000\n",
      "-0.283987   3.140333   2.906468   0.000000   0.000000   0.000000\n",
      "0.006660   2.666680   2.417643   0.000000   0.000000   0.000000\n",
      "0.248424   2.165294   0.000000   0.000000   0.000000   0.000000\n",
      "Newton's Divided interpolation table:\n",
      "3.365129   3.585021   -4.586613   0.000000   0.000000   0.000000\n",
      "2.906468   3.140333   -4.888247   0.000000   0.000000   0.000000\n",
      "2.417643   2.666680   -24.176430   0.000000   0.000000   0.000000\n",
      "0.000000   2.165294   0.000000   0.000000   0.000000   0.000000\n"
     ]
    }
   ],
   "source": [
    "\"\"\"\n",
    "def newton_divided(x_n, f_x, f_prime):\n",
    "    n = len(x_n)\n",
    "    F = [[0.0] * (n+2) for _ in range(n)]\n",
    "    \n",
    "    for i in range(n):\n",
    "        F[i][0] = f_x[i]\n",
    "        F[i][1] = f_prime[i]\n",
    "    \n",
    "    for i in reversed(range(n - 1)):\n",
    "        for j in range((n - 1) - i):\n",
    "            if j >=1:\n",
    "                break\n",
    "            F[i][j+2] = (F[i+1][j]-F[i][j])/(x_n[i+j+1] - x_n[i])\n",
    "            \n",
    "    \n",
    "    \n",
    "    return  F\n",
    "\n",
    "x_n=[0.1,0.2,0.3,0.4]\n",
    "f_x = [-0.62049958, -0.28398668, 0.006660095, 0.24842440]\n",
    "f_prime = [3.58502082, 3.14033271, 2.66668043, 2.16529366]\n",
    "\n",
    "table=newton_divided(x_n, f_x, f_prime)\n",
    "f_divided = []\n",
    "\n",
    "for i in range(len(x_n)):\n",
    "    f_divided.append(table[i][2])\n",
    "\n",
    "print(\"Newton's Divided interpolation table:\")\n",
    "for i, row in enumerate(table):\n",
    "    formatted_row = \"   \".join(\"{:.6f}\".format(val) for val in row)\n",
    "    print(formatted_row)\n",
    "\n",
    "\"\"\"\n",
    "\n"
   ]
  }
 ],
 "metadata": {
  "kernelspec": {
   "display_name": "Python 3 (ipykernel)",
   "language": "python",
   "name": "python3"
  },
  "language_info": {
   "codemirror_mode": {
    "name": "ipython",
    "version": 3
   },
   "file_extension": ".py",
   "mimetype": "text/x-python",
   "name": "python",
   "nbconvert_exporter": "python",
   "pygments_lexer": "ipython3",
   "version": "3.12.5"
  }
 },
 "nbformat": 4,
 "nbformat_minor": 5
}
